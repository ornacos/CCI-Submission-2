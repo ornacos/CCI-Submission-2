{
 "cells": [
  {
   "cell_type": "code",
   "execution_count": null,
   "id": "2dcb6ca3",
   "metadata": {},
   "outputs": [
    {
     "ename": "ValueError",
     "evalue": "Input JSON is not a GeometryCollection",
     "output_type": "error",
     "traceback": [
      "\u001b[0;31m---------------------------------------------------------------------------\u001b[0m",
      "\u001b[0;31mValueError\u001b[0m                                Traceback (most recent call last)",
      "Cell \u001b[0;32mIn[2], line 12\u001b[0m\n\u001b[1;32m      9\u001b[0m     geojson \u001b[38;5;241m=\u001b[39m json\u001b[38;5;241m.\u001b[39mload(f)\n\u001b[1;32m     11\u001b[0m \u001b[38;5;28;01mif\u001b[39;00m geojson\u001b[38;5;241m.\u001b[39mget(\u001b[38;5;124m'\u001b[39m\u001b[38;5;124mtype\u001b[39m\u001b[38;5;124m'\u001b[39m) \u001b[38;5;241m!=\u001b[39m \u001b[38;5;124m'\u001b[39m\u001b[38;5;124mGeometryCollection\u001b[39m\u001b[38;5;124m'\u001b[39m:\n\u001b[0;32m---> 12\u001b[0m     \u001b[38;5;28;01mraise\u001b[39;00m \u001b[38;5;167;01mValueError\u001b[39;00m(\u001b[38;5;124m'\u001b[39m\u001b[38;5;124mInput JSON is not a GeometryCollection\u001b[39m\u001b[38;5;124m'\u001b[39m)\n\u001b[1;32m     14\u001b[0m \u001b[38;5;66;03m# Convert each geometry to a Feature\u001b[39;00m\n\u001b[1;32m     15\u001b[0m features \u001b[38;5;241m=\u001b[39m [\n\u001b[1;32m     16\u001b[0m     {\n\u001b[1;32m     17\u001b[0m         \u001b[38;5;124m'\u001b[39m\u001b[38;5;124mtype\u001b[39m\u001b[38;5;124m'\u001b[39m: \u001b[38;5;124m'\u001b[39m\u001b[38;5;124mFeature\u001b[39m\u001b[38;5;124m'\u001b[39m,\n\u001b[0;32m   (...)\u001b[0m\n\u001b[1;32m     21\u001b[0m     \u001b[38;5;28;01mfor\u001b[39;00m geometry \u001b[38;5;129;01min\u001b[39;00m geojson[\u001b[38;5;124m'\u001b[39m\u001b[38;5;124mgeometries\u001b[39m\u001b[38;5;124m'\u001b[39m]\n\u001b[1;32m     22\u001b[0m ]\n",
      "\u001b[0;31mValueError\u001b[0m: Input JSON is not a GeometryCollection"
     ]
    }
   ],
   "source": [
    "import json\n",
    "\n",
    "# I used this to convert geojson files into different formats, as D3 would only read ones with feauture collections\n",
    "\n",
    "\n",
    "# Replace with your actual JSON content or path\n",
    "input_file = '/Users/ornacostello/Documents/cci/proj5/map/data/test2.json'  # Make sure this file is in the same folder as your notebook or provide full path\n",
    "output_file = 'aaaaaa.geojson'\n",
    "\n",
    "# Read the GeometryCollection JSON file\n",
    "with open(input_file, 'r') as f:\n",
    "    geojson = json.load(f)\n",
    "\n",
    "if geojson.get('type') != 'GeometryCollection':\n",
    "    raise ValueError('Input JSON is not a GeometryCollection')\n",
    "\n",
    "# Convert each geometry to a Feature\n",
    "features = [\n",
    "    {\n",
    "        'type': 'Feature',\n",
    "        'properties': {},  # Add properties here if you want\n",
    "        'geometry': geometry,\n",
    "    }\n",
    "    for geometry in geojson['geometries']\n",
    "]\n",
    "\n",
    "# Create FeatureCollection object\n",
    "feature_collection = {\n",
    "    'type': 'FeatureCollection',\n",
    "    'features': features,\n",
    "}\n",
    "\n",
    "# Save the FeatureCollection to a new file\n",
    "with open(output_file, 'w') as f:\n",
    "    json.dump(feature_collection, f, indent=2)\n",
    "\n",
    "print(f'Converted GeometryCollection to FeatureCollection: {output_file}')\n"
   ]
  },
  {
   "cell_type": "code",
   "execution_count": null,
   "id": "07e1878d",
   "metadata": {},
   "outputs": [],
   "source": []
  }
 ],
 "metadata": {
  "kernelspec": {
   "display_name": "dipcc",
   "language": "python",
   "name": "python3"
  },
  "language_info": {
   "codemirror_mode": {
    "name": "ipython",
    "version": 3
   },
   "file_extension": ".py",
   "mimetype": "text/x-python",
   "name": "python",
   "nbconvert_exporter": "python",
   "pygments_lexer": "ipython3",
   "version": "3.12.2"
  }
 },
 "nbformat": 4,
 "nbformat_minor": 5
}
